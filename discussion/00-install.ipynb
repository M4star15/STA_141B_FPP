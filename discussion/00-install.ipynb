{
 "cells": [
  {
   "cell_type": "markdown",
   "metadata": {},
   "source": [
    "## Install Python\n",
    "* [How to install Python](https://www.python.org/downloads/)\n",
    "\n",
    "\n",
    "* [How to install Jupyter Software](https://jupyter.org/install) -- use either pip or Anaconda\n",
    "\n",
    "\n",
    "* Choice 1: \n",
    "    - Install and run through [Anaconda](https://docs.anaconda.com/anaconda/install/index.html).  \n",
    "    - Anaconda is an open-source distribution for python and R. It is used for data science, machine learning, deep learning, etc. With the availability of more than 300 libraries for data science, it becomes fairly optimal for any programmer to work on anaconda for data science. \n",
    "    - Launch [Anaconda Navigator](https://docs.anaconda.com/anaconda/navigator/index.html) and install jupyter notebook\n",
    "    - Or install with \"conda install -c conda-forge notebook\" at the Terminal (Mac/Linux) or Command Prompt (Windows)\n",
    "\n",
    "\n",
    "* Choice 2: \n",
    "    - First install [pip](https://pip.pypa.io/en/stable/installation/). \n",
    "\n",
    "    - Then install jupyter notebook with \"pip install notebook\" and run with \"jupyter notebook\" at the Terminal (Mac/Linux) or Command Prompt (Windows)\n",
    "    \n",
    "\n",
    "\n"
   ]
  }
 ],
 "metadata": {
  "kernelspec": {
   "display_name": "Python 3",
   "language": "python",
   "name": "python3"
  },
  "language_info": {
   "codemirror_mode": {
    "name": "ipython",
    "version": 3
   },
   "file_extension": ".py",
   "mimetype": "text/x-python",
   "name": "python",
   "nbconvert_exporter": "python",
   "pygments_lexer": "ipython3",
   "version": "3.8.8"
  }
 },
 "nbformat": 4,
 "nbformat_minor": 2
}
